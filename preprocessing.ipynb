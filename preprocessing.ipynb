{
 "cells": [
  {
   "cell_type": "code",
   "execution_count": 12,
   "metadata": {},
   "outputs": [
    {
     "name": "stdout",
     "output_type": "stream",
     "text": [
      "              Age        Year\n",
      "count  317.000000  319.000000\n",
      "mean    21.870662    2.241379\n",
      "std      1.780429    0.991178\n",
      "min     19.000000    1.000000\n",
      "25%     20.000000    1.000000\n",
      "50%     22.000000    2.000000\n",
      "75%     23.000000    3.000000\n",
      "max     26.000000    4.000000\n"
     ]
    }
   ],
   "source": [
    "import numpy as np\n",
    "import pandas as pd\n",
    "\n",
    "\n",
    "# Importing the dataset \n",
    "dataset = pd.read_csv('student_list.csv')\n",
    "\n",
    "#visualizing data set\n",
    "#1. Dataset details\n",
    "details = dataset.describe()\n",
    "print(details)"
   ]
  },
  {
   "cell_type": "code",
   "execution_count": 13,
   "metadata": {},
   "outputs": [
    {
     "name": "stdout",
     "output_type": "stream",
     "text": [
      "                    Name Dept Gender   Age  Year Roll No.\n",
      "5            AMIT SAXENA   CE      M   NaN   1.0    Y9077\n",
      "7            ANURAG DASH   EE      M   NaN   1.0    Y9115\n",
      "10   BANOTHU KESHAVA RAO  CHE      M   NaN   1.0    Y9169\n",
      "19           NAVIN KUMAR   AE      M  19.0   NaN    Y9361\n",
      "43      ANSHUKA ABHISHEK   EE      F   NaN   1.0    Y9106\n",
      "53          KUNAL MISHRA  NaN    NaN   NaN   NaN    Y9299\n",
      "103         SHIVAM KUMAR   CE      M  22.0   NaN    Y9552\n",
      "188         ABHISHEK RAJ   CE      M   NaN   4.0    Y9030\n",
      "193        ANSHUL BANSAL   EE      M  22.0   NaN    Y9107\n",
      "233  BHOLE SHRIKANT ANIL   CE      M   NaN   3.0    Y9172\n",
      "237       KARAN BAGADIYA   AE      M  22.0   NaN    Y9275\n",
      "259     AJEET KUMAR SHAH   CE      M   NaN   1.0    Y9048\n",
      "287        UDIT BHARGAVA   EE      M   NaN   1.0    Y9628\n",
      "306      M M SOHEL TARIR   AE      M  26.0   NaN    Y9310\n",
      "311     PRASHANT KHOKHAR   EE      M  25.0   NaN    Y9427\n"
     ]
    }
   ],
   "source": [
    "datasetChecklist = dataset.isnull().any(axis = 1)\n",
    "#3. List the rows has 1 or more colums Nan\n",
    "nanRows = dataset[datasetChecklist]\n",
    "print(nanRows)"
   ]
  },
  {
   "cell_type": "code",
   "execution_count": 14,
   "metadata": {},
   "outputs": [
    {
     "name": "stdout",
     "output_type": "stream",
     "text": [
      "                            Name Dept Gender   Age  Year\n",
      "0              SUNIL KUMAR MEENA   EE      M  19.0   1.0\n",
      "1    AADITYA BHARAT KUMAR PANDYA   ME      M  19.0   1.0\n",
      "2                 ABHISHEK ANAND   AE      M  20.0   1.0\n",
      "3                ABHISHEK TIWARI   EE      M  19.0   1.0\n",
      "4                     AMAN GUPTA   EE      M  19.0   1.0\n",
      "5                    AMIT SAXENA   CE      M   NaN   1.0\n",
      "6                    ANKIT ANAND   ME      M  19.0   1.0\n",
      "7                    ANURAG DASH   EE      M   NaN   1.0\n",
      "8               ARPIT SRIVASTAVA   CE      M  19.0   1.0\n",
      "9                     ATUL KUMAR   CE      M  19.0   1.0\n",
      "10           BANOTHU KESHAVA RAO  CHE      M   NaN   1.0\n",
      "11                 CHANDAN KUMAR   CE      M  19.0   1.0\n",
      "12           DIGRAJ SINGH CHAHAL   ME      M  19.0   1.0\n",
      "13                   GOURAV GARG   ME      M  19.0   1.0\n",
      "14               KONANKI SIVARAM   CE      F  19.0   1.0\n",
      "15                 KUMAR SHUBHAM   ME      M  19.0   1.0\n",
      "16                MADHAV GOSWAMI   CE      M  19.0   1.0\n",
      "17               MD. SHADAB ALAM   EE      M  19.0   1.0\n",
      "18                  MUDIT DHAKAR   ME      M  19.0   1.0\n",
      "19                   NAVIN KUMAR   AE      M  19.0   NaN\n",
      "20                   NITISH ARYA   AE      M  20.0   1.0\n",
      "21                   PAWAN KUMAR   ME      M  19.0   1.0\n",
      "22          PRATAP BHANU SOLANKI   EE      M  19.0   1.0\n",
      "23                 RAGHAV MISHRA   ME      M  20.0   1.0\n",
      "24             ROHIT KUMAR SINHA   EE      M  19.0   1.0\n",
      "25                  SAMBHAV JAIN   AE      M  20.0   1.0\n",
      "26               SAURABH CHOKHRA   EE      M  19.0   1.0\n",
      "27        SHIRJON SHALKU HANSDAH   EE      M  19.0   1.0\n",
      "28                 SHUBHAM GUPTA   CE      M  19.0   1.0\n",
      "29        SOUMITRA NARAIN PATHAK   CE      M  19.0   1.0\n",
      "..                           ...  ...    ...   ...   ...\n",
      "296                 ANUPAM KUMAR   EE      M  24.0   4.0\n",
      "297                 ARPIT INDORA   EE      M  24.0   4.0\n",
      "298               ASUTOSH TIWARI   EE      M  24.0   4.0\n",
      "299           BOYINA PRUDHVI RAJ   AE      M  25.0   4.0\n",
      "300               DHEERAJ SACHAN   EE      M  24.0   4.0\n",
      "301                 GAURAV GUPTA   EE      M  24.0   4.0\n",
      "302          GOLLU DIVAKAR NAIDU   ME      M  24.0   4.0\n",
      "303                   JIMI KUMAR   ME      M  24.0   4.0\n",
      "304              KAVISH AGGARWAL   EE      M  24.0   3.0\n",
      "305               KUMAR RITIKESH   EE      M  24.0   3.0\n",
      "306              M M SOHEL TARIR   AE      M  26.0   NaN\n",
      "307                MD. ALIF KHAN   AE      M  26.0   3.0\n",
      "308           MRITYUNJAY KOTHARI   ME      M  25.0   4.0\n",
      "309                  NAVEEN GOEL   CE      M  20.0   1.0\n",
      "310                 NITESH KUMAR   EE      M  25.0   4.0\n",
      "311             PRASHANT KHOKHAR   EE      M  25.0   NaN\n",
      "312            PUSHKAR CHAUDHARY   EE      M  25.0   4.0\n",
      "313                   RAJAT JAIN   ME      M  25.0   4.0\n",
      "314                  ROHIT KUMAR   CE      M  20.0   1.0\n",
      "315                 SAKSHI GOYAL   CE      F  19.0   1.0\n",
      "316               SAURABH BANSAL   EE      M  26.0   3.0\n",
      "317              SHIKHAR PRADHAN   ME      M  25.0   4.0\n",
      "318             SHUBHAM CHECHANI   EE      M  26.0   4.0\n",
      "319       SONAJE ROSHAN RAJENDRA   CE      F  21.0   2.0\n",
      "320        SUSHANT MANI TRIPATHI   CE      M  25.0   3.0\n",
      "321             UJJWALA S AVINAW   CE      F  24.0   4.0\n",
      "322                VIDIT JHINDAL   CE      M  23.0   3.0\n",
      "323        VISHESH KUMAR PANJABI   CE      M  23.0   3.0\n",
      "324              ABHISHEK SHUKLA  CHE      M  20.0   1.0\n",
      "325              GAOUTAMI PARMAR  CHE      F  19.0   1.0\n",
      "\n",
      "[325 rows x 5 columns]\n"
     ]
    }
   ],
   "source": [
    "#4. Remove emptyRow example index 53\n",
    "dataset = dataset.drop([53])\n",
    "#5. Drop unwanted coulumn\n",
    "dataset = dataset.drop('Roll No.', axis=1)\n",
    "print(dataset)\n"
   ]
  },
  {
   "cell_type": "code",
   "execution_count": 15,
   "metadata": {},
   "outputs": [
    {
     "name": "stdout",
     "output_type": "stream",
     "text": [
      "[['EE' 'M' 19.0 1.0]\n",
      " ['ME' 'M' 19.0 1.0]\n",
      " ['AE' 'M' 20.0 1.0]\n",
      " ...\n",
      " ['CE' 'M' 23.0 3.0]\n",
      " ['CHE' 'M' 20.0 1.0]\n",
      " ['CHE' 'F' 19.0 1.0]]\n",
      "                    Name Dept Gender   Age  Year\n",
      "5            AMIT SAXENA   CE      M   NaN   1.0\n",
      "7            ANURAG DASH   EE      M   NaN   1.0\n",
      "10   BANOTHU KESHAVA RAO  CHE      M   NaN   1.0\n",
      "19           NAVIN KUMAR   AE      M  19.0   NaN\n",
      "43      ANSHUKA ABHISHEK   EE      F   NaN   1.0\n",
      "103         SHIVAM KUMAR   CE      M  22.0   NaN\n",
      "188         ABHISHEK RAJ   CE      M   NaN   4.0\n",
      "193        ANSHUL BANSAL   EE      M  22.0   NaN\n",
      "233  BHOLE SHRIKANT ANIL   CE      M   NaN   3.0\n",
      "237       KARAN BAGADIYA   AE      M  22.0   NaN\n",
      "259     AJEET KUMAR SHAH   CE      M   NaN   1.0\n",
      "287        UDIT BHARGAVA   EE      M   NaN   1.0\n",
      "306      M M SOHEL TARIR   AE      M  26.0   NaN\n",
      "311     PRASHANT KHOKHAR   EE      M  25.0   NaN\n"
     ]
    },
    {
     "name": "stderr",
     "output_type": "stream",
     "text": [
      "/var/ml/anaconda3/lib/python3.7/site-packages/ipykernel_launcher.py:5: UserWarning: Boolean Series key will be reindexed to match DataFrame index.\n",
      "  \"\"\"\n"
     ]
    }
   ],
   "source": [
    "#load dataset to a object, If all the numeric can be visualised as matrix\n",
    "X = dataset.iloc[:, 1:5].values\n",
    "print(X)\n",
    "#imputing nan\n",
    "Y = dataset[datasetChecklist]\n",
    "# group work here\n",
    "print(Y)"
   ]
  },
  {
   "cell_type": "code",
   "execution_count": null,
   "metadata": {},
   "outputs": [],
   "source": []
  }
 ],
 "metadata": {
  "kernelspec": {
   "display_name": "Python 3",
   "language": "python",
   "name": "python3"
  },
  "language_info": {
   "codemirror_mode": {
    "name": "ipython",
    "version": 3
   },
   "file_extension": ".py",
   "mimetype": "text/x-python",
   "name": "python",
   "nbconvert_exporter": "python",
   "pygments_lexer": "ipython3",
   "version": "3.7.3"
  }
 },
 "nbformat": 4,
 "nbformat_minor": 2
}
