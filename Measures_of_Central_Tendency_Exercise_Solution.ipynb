{
 "cells": [
  {
   "cell_type": "markdown",
   "metadata": {},
   "source": [
    "# Measures of Central Tendency\n",
    "### Mean\n",
    "\n",
    "### Python program to demonstrate mean() using built-in function\n",
    "### # built-in function from the statistics module "
   ]
  },
  {
   "cell_type": "code",
   "execution_count": 9,
   "metadata": {},
   "outputs": [
    {
     "name": "stdout",
     "output_type": "stream",
     "text": [
      "Calculating the mean using built-in python function & list\n",
      "Mean is : 5\n",
      "   \n",
      "Calculating the mean using built-in python function & tuple\n",
      "Mean is : 5\n",
      "   \n"
     ]
    }
   ],
   "source": [
    "# Importing the statistics module \n",
    "import statistics \n",
    "  \n",
    "# list of positive integer numbers \n",
    "data_list = [9, 8, 1, 2, 3, 4, 5, 6, 7] \n",
    "data_tup  = (9, 8, 1, 2, 3, 4, 5, 6, 7)\n",
    "\n",
    "x = statistics.mean(data_list) \n",
    "# Calculating the mean using built-in python function & list \n",
    "print(\"Calculating the mean using built-in python function & list\")\n",
    "print(\"Mean is :\", x)\n",
    "print(\"   \")\n",
    "\n",
    "x = statistics.mean(data_tup)\n",
    "# Calculating the mean using built-in python function & tuple\n",
    "print(\"Calculating the mean using built-in python function & tuple\")\n",
    "print(\"Mean is :\", x)\n",
    "print(\"   \")"
   ]
  },
  {
   "cell_type": "markdown",
   "metadata": {},
   "source": [
    "## Exercise\n",
    "### # Write a Python program to find mean of the following Dataset without any additional module\n",
    "\n",
    "### # data_list = [9, 8, 1, 2, 3, 4, 5, 6, 7]"
   ]
  },
  {
   "cell_type": "markdown",
   "metadata": {},
   "source": [
    "### Hints\n",
    "### # Write a Python program to find mean without any built-in function from additional module"
   ]
  },
  {
   "cell_type": "code",
   "execution_count": null,
   "metadata": {},
   "outputs": [],
   "source": [
    "# Python program to demonstrate mean() using non-built-in function\n",
    "data_list = [9, 8, 1, 2, 3, 4, 5, 6, 7]\n",
    "\n",
    "sum = ?\n",
    "for i in ?:\n",
    "    print(\"The element is: \", i)\n",
    "    ? = ? + ?\n",
    "\n",
    "print(\" \")\n",
    "print(\"The sum of the elements is: \", sum)\n",
    "number_of_elements = ?(data_list)\n",
    "mean = ? / ?\n",
    "print(\"Calculating the mean using non-built-in python function\")\n",
    "print(\"The mean is: \", mean)"
   ]
  },
  {
   "cell_type": "markdown",
   "metadata": {},
   "source": [
    "### Solution\n",
    "### # Write a Python program to find mean without any additional module"
   ]
  },
  {
   "cell_type": "code",
   "execution_count": 5,
   "metadata": {},
   "outputs": [
    {
     "name": "stdout",
     "output_type": "stream",
     "text": [
      "The element is:  9\n",
      "The element is:  8\n",
      "The element is:  1\n",
      "The element is:  2\n",
      "The element is:  3\n",
      "The element is:  4\n",
      "The element is:  5\n",
      "The element is:  6\n",
      "The element is:  7\n",
      " \n",
      "The sum of the elements is:  45\n",
      "Calculating the mean using non-built-in python function\n",
      "The mean is:  5.0\n"
     ]
    }
   ],
   "source": [
    "# Python program to demonstrate mean() using non-built-in function\n",
    "data_list = [9, 8, 1, 2, 3, 4, 5, 6, 7]\n",
    "\n",
    "sum = 0\n",
    "for i in data_list:\n",
    "    print(\"The element is: \", i)\n",
    "    sum = sum + i\n",
    "\n",
    "print(\" \")\n",
    "print(\"The sum of the elements is: \", sum)\n",
    "number_of_elements = len(data_list)\n",
    "mean = sum / number_of_elements\n",
    "print(\"Calculating the mean using non-built-in python function\")\n",
    "print(\"The mean is: \", mean)"
   ]
  },
  {
   "cell_type": "markdown",
   "metadata": {},
   "source": [
    "# Measures of Central Tendency\n",
    "### Median\n",
    "\n",
    "### Python program to demonstrate median() using built-in function\n",
    "### # built-in function from the statistics module"
   ]
  },
  {
   "cell_type": "code",
   "execution_count": 10,
   "metadata": {},
   "outputs": [
    {
     "name": "stdout",
     "output_type": "stream",
     "text": [
      "[9, 8, 1, 2, 3, 4, 5, 6, 7, 10]\n",
      "Median of data-set using built-in function is 5.5\n",
      " \n",
      "[9, 8, 1, 2, 3, 4, 5, 6, 7, 10, 11]\n",
      "Median of data-set using built-in function is 6\n"
     ]
    }
   ],
   "source": [
    "# Python code to demonstrate the working of median with build-in function\n",
    "  \n",
    "# importing the statistics module \n",
    "from statistics import median \n",
    "  \n",
    "data_list_1 = [9, 8, 1, 2, 3, 4, 5, 6, 7, 10] \n",
    "print (data_list_1)\n",
    "# Printing the median of above datset\n",
    "print(\"Median of data-set using built-in function is % s\" % (median(data_list_1)))\n",
    "print(\" \")\n",
    "\n",
    "data_list_2 = [9, 8, 1, 2, 3, 4, 5, 6, 7, 10 , 11] \n",
    "print (data_list_2)\n",
    "# Printing the median of above datset  \n",
    "print(\"Median of data-set using built-in function is % s\" % (median(data_list_2)))"
   ]
  },
  {
   "cell_type": "markdown",
   "metadata": {},
   "source": [
    "## Exercise\n",
    "### # Write a Python program to find median of the following Dataset without any additional module\n",
    "\n",
    "### # dataset_list = [9, 8, 1, 2, 3, 4, 5, 6, 7, 10]\n",
    "### # dataset_list = [9, 8, 1, 2, 3, 4, 5, 6, 7, 10, 11]"
   ]
  },
  {
   "cell_type": "markdown",
   "metadata": {},
   "source": [
    "### Hints\n",
    "### # Write a Python program to find median without any built-in function from additional module"
   ]
  },
  {
   "cell_type": "code",
   "execution_count": null,
   "metadata": {},
   "outputs": [],
   "source": [
    "def median(data_list):\n",
    "    print (data_list)\n",
    "    ?.?                     # sort the list\n",
    "    print (data_list)\n",
    "    \n",
    "    n = ?(?)                # find the length of the list\n",
    "    print(n)\n",
    "\n",
    "    if( n % 2 == ? ):\n",
    "        print(\"Data set have even number of elements\")\n",
    "        print(\"Median is: \", ? * ((data_list[n//2 - ?]) + (data_list[?])) )\n",
    "    else:\n",
    "        print(\"Data set have even number of elements\")\n",
    "        print(\"Median is: \", (data_list[?]))\n",
    "\n",
    " \n",
    "dataset_list = [9, 8, 1, 2, 3, 4, 5, 6, 7, 10] \n",
    "median(?)\n",
    "print(\" \")\n",
    "\n",
    "dataset_list = [9, 8, 1, 2, 3, 4, 5, 6, 7, 10, 11] \n",
    "median(?)"
   ]
  },
  {
   "cell_type": "markdown",
   "metadata": {},
   "source": [
    "### Solution\n",
    "### # Write a Python program to median mean without any additional module"
   ]
  },
  {
   "cell_type": "code",
   "execution_count": 11,
   "metadata": {},
   "outputs": [
    {
     "name": "stdout",
     "output_type": "stream",
     "text": [
      "[9, 8, 1, 2, 3, 4, 5, 6, 7, 10]\n",
      "[1, 2, 3, 4, 5, 6, 7, 8, 9, 10]\n",
      "10\n",
      "Data set have even number of elements\n",
      "Median is:  5.5\n",
      " \n",
      "[9, 8, 1, 2, 3, 4, 5, 6, 7, 10, 11]\n",
      "[1, 2, 3, 4, 5, 6, 7, 8, 9, 10, 11]\n",
      "11\n",
      "Data set have even number of elements\n",
      "Median is:  6\n"
     ]
    }
   ],
   "source": [
    "# Python code to demonstrate the working of median without build-in function from additional module \n",
    "  \n",
    "def median(data_list):\n",
    "    print (data_list)\n",
    "    data_list.sort() \n",
    "    print (data_list)\n",
    "    \n",
    "    n = len(data_list)\n",
    "    print(n)\n",
    "\n",
    "    if( n % 2 == 0 ):\n",
    "        print(\"Data set have even number of elements\")\n",
    "        print(\"Median is: \", 0.5 * ((data_list[n//2 - 1]) + (data_list[n//2])) )\n",
    "    else:\n",
    "        print(\"Data set have even number of elements\")\n",
    "        print(\"Median is: \", (data_list[n//2]))\n",
    "\n",
    "dataset_list = [9, 8, 1, 2, 3, 4, 5, 6, 7, 10] \n",
    "median(dataset_list)\n",
    "print(\" \")\n",
    "\n",
    "dataset_list = [9, 8, 1, 2, 3, 4, 5, 6, 7, 10, 11] \n",
    "median(dataset_list)"
   ]
  },
  {
   "cell_type": "markdown",
   "metadata": {},
   "source": [
    "# Measures of Central Tendency\n",
    "### Mode\n",
    "\n",
    "### Python program to demonstrate mode() using built-in function\n",
    "### # built-in function from the statistics module "
   ]
  },
  {
   "cell_type": "code",
   "execution_count": 1,
   "metadata": {},
   "outputs": [
    {
     "name": "stdout",
     "output_type": "stream",
     "text": [
      "Mode for the above dataset is:  4\n",
      " \n"
     ]
    },
    {
     "ename": "StatisticsError",
     "evalue": "no unique mode; found 10 equally common values",
     "output_type": "error",
     "traceback": [
      "\u001b[1;31m---------------------------------------------------------------------------\u001b[0m",
      "\u001b[1;31mStatisticsError\u001b[0m                           Traceback (most recent call last)",
      "\u001b[1;32m<ipython-input-1-36a07f100083>\u001b[0m in \u001b[0;36m<module>\u001b[1;34m\u001b[0m\n\u001b[0;32m     10\u001b[0m \u001b[1;33m\u001b[0m\u001b[0m\n\u001b[0;32m     11\u001b[0m \u001b[0mdataset_list\u001b[0m \u001b[1;33m=\u001b[0m \u001b[1;33m[\u001b[0m\u001b[1;36m9\u001b[0m\u001b[1;33m,\u001b[0m \u001b[1;36m8\u001b[0m\u001b[1;33m,\u001b[0m \u001b[1;36m1\u001b[0m\u001b[1;33m,\u001b[0m \u001b[1;36m2\u001b[0m\u001b[1;33m,\u001b[0m \u001b[1;36m3\u001b[0m\u001b[1;33m,\u001b[0m \u001b[1;36m4\u001b[0m\u001b[1;33m,\u001b[0m \u001b[1;36m5\u001b[0m\u001b[1;33m,\u001b[0m \u001b[1;36m6\u001b[0m\u001b[1;33m,\u001b[0m \u001b[1;36m7\u001b[0m\u001b[1;33m,\u001b[0m \u001b[1;36m10\u001b[0m\u001b[1;33m]\u001b[0m\u001b[1;33m\u001b[0m\u001b[1;33m\u001b[0m\u001b[0m\n\u001b[1;32m---> 12\u001b[1;33m \u001b[0mx\u001b[0m \u001b[1;33m=\u001b[0m \u001b[0mstatistics\u001b[0m\u001b[1;33m.\u001b[0m\u001b[0mmode\u001b[0m\u001b[1;33m(\u001b[0m\u001b[0mdataset_list\u001b[0m\u001b[1;33m)\u001b[0m\u001b[1;33m\u001b[0m\u001b[1;33m\u001b[0m\u001b[0m\n\u001b[0m\u001b[0;32m     13\u001b[0m \u001b[0mprint\u001b[0m\u001b[1;33m(\u001b[0m\u001b[1;34m\"Mode for the above dataset is: \"\u001b[0m\u001b[1;33m,\u001b[0m \u001b[0mx\u001b[0m\u001b[1;33m)\u001b[0m\u001b[1;33m\u001b[0m\u001b[1;33m\u001b[0m\u001b[0m\n",
      "\u001b[1;32m~\\AppData\\Local\\Continuum\\anaconda3\\lib\\statistics.py\u001b[0m in \u001b[0;36mmode\u001b[1;34m(data)\u001b[0m\n\u001b[0;32m    504\u001b[0m     \u001b[1;32melif\u001b[0m \u001b[0mtable\u001b[0m\u001b[1;33m:\u001b[0m\u001b[1;33m\u001b[0m\u001b[1;33m\u001b[0m\u001b[0m\n\u001b[0;32m    505\u001b[0m         raise StatisticsError(\n\u001b[1;32m--> 506\u001b[1;33m                 \u001b[1;34m'no unique mode; found %d equally common values'\u001b[0m \u001b[1;33m%\u001b[0m \u001b[0mlen\u001b[0m\u001b[1;33m(\u001b[0m\u001b[0mtable\u001b[0m\u001b[1;33m)\u001b[0m\u001b[1;33m\u001b[0m\u001b[1;33m\u001b[0m\u001b[0m\n\u001b[0m\u001b[0;32m    507\u001b[0m                 )\n\u001b[0;32m    508\u001b[0m     \u001b[1;32melse\u001b[0m\u001b[1;33m:\u001b[0m\u001b[1;33m\u001b[0m\u001b[1;33m\u001b[0m\u001b[0m\n",
      "\u001b[1;31mStatisticsError\u001b[0m: no unique mode; found 10 equally common values"
     ]
    }
   ],
   "source": [
    "# Python code to demonstrate the working of mode with build-in function \n",
    "\n",
    "# Importing the statistics module \n",
    "import statistics \n",
    "\n",
    "dataset_list = [9, 8, 1, 2, 3, 4, 5, 6, 7, 10, 4]\n",
    "x = statistics.mode(dataset_list)\n",
    "print(\"Mode for the above dataset is: \", x)\n",
    "print(\" \")\n",
    "\n",
    "dataset_list = [9, 8, 1, 2, 3, 4, 5, 6, 7, 10]\n",
    "x = statistics.mode(dataset_list)\n",
    "print(\"Mode for the above dataset is: \", x)"
   ]
  },
  {
   "cell_type": "markdown",
   "metadata": {},
   "source": [
    "## Exercise\n",
    "### # Write a Python program to find mode of the following Dataset without any additional module\n",
    "\n",
    "### # dataset_list = [9, 8, 1, 2, 3, 4, 5, 6, 7, 10, 4, 6, 2]\n",
    "### # dataset_list = [9, 8, 1, 2, 3, 4, 5, 6, 7, 10, 4, 6, 2, 6]"
   ]
  },
  {
   "cell_type": "markdown",
   "metadata": {},
   "source": [
    "### Hints\n",
    "### # Write a Python program to find mode without any built-in function from additional module"
   ]
  },
  {
   "cell_type": "code",
   "execution_count": null,
   "metadata": {},
   "outputs": [],
   "source": [
    "# In the exercise, the Dataset is defined in such way that there is a mode. \n",
    "# We are not considering the Dataset where there is no Mode.\n",
    "\n",
    "dataset_list = [9, 8, 1, 2, 3, 4, 5, 6, 7, 10, 4, 6, 2]\n",
    "# dataset_list = [9, 8, 1, 2, 3, 4, 5, 6, 7, 10, 4, 6, 2, 6]\n",
    "print(dataset_list)\n",
    "print(\" \")\n",
    "\n",
    "count = 1\n",
    "count_list = []\n",
    "for i in dataset_list:\n",
    "    print(\"The element is: \", i)\n",
    "    x = dataset_list.?(?)          # count how many times i have occurred in the list \n",
    "    print(x)\n",
    "    if ( x > ? ):\n",
    "        count_list.append(?)\n",
    "\n",
    "print(\" \")\n",
    "print(count_list)\n",
    "max_occurance = ?(count_list)\n",
    "print(\"Max Occurance is: \", max_occurance)\n",
    "\n",
    "mode_list = []\n",
    "# So which elements in the data list has max occurance is the mode\n",
    "for i in dataset_list:\n",
    "    if (dataset_list.count(i) == ?):\n",
    "        mode_list.append(?)\n",
    "\n",
    "print(\" \")\n",
    "print(mode_list)\n",
    "\n",
    "mode_set = ?(mode_list)\n",
    "print(mode_set)\n",
    "for i in ?:\n",
    "    print(\"Mode :\", i)"
   ]
  },
  {
   "cell_type": "markdown",
   "metadata": {},
   "source": [
    "### Solution\n",
    "### # Write a Python program to find mode without any additional module"
   ]
  },
  {
   "cell_type": "code",
   "execution_count": 5,
   "metadata": {},
   "outputs": [
    {
     "name": "stdout",
     "output_type": "stream",
     "text": [
      "[9, 8, 1, 2, 3, 4, 5, 6, 7, 10, 4, 6, 2]\n",
      " \n",
      "The element is:  9\n",
      "1\n",
      "The element is:  8\n",
      "1\n",
      "The element is:  1\n",
      "1\n",
      "The element is:  2\n",
      "2\n",
      "The element is:  3\n",
      "1\n",
      "The element is:  4\n",
      "2\n",
      "The element is:  5\n",
      "1\n",
      "The element is:  6\n",
      "2\n",
      "The element is:  7\n",
      "1\n",
      "The element is:  10\n",
      "1\n",
      "The element is:  4\n",
      "2\n",
      "The element is:  6\n",
      "2\n",
      "The element is:  2\n",
      "2\n",
      " \n",
      "[2, 2, 2, 2, 2, 2]\n",
      "Max Occurance is:  2\n",
      " \n",
      "[2, 4, 6, 4, 6, 2]\n",
      "{2, 4, 6}\n",
      "Mode : 2\n",
      "Mode : 4\n",
      "Mode : 6\n"
     ]
    }
   ],
   "source": [
    "# Dataset is defined in such way that there is a mode\n",
    "\n",
    "dataset_list = [9, 8, 1, 2, 3, 4, 5, 6, 7, 10, 4, 6, 2]\n",
    "# dataset_list = [9, 8, 1, 2, 3, 4, 5, 6, 7, 10, 4, 6, 2, 6]\n",
    "print(dataset_list)\n",
    "print(\" \")\n",
    "\n",
    "count = 1\n",
    "count_list = []\n",
    "for i in dataset_list:\n",
    "    print(\"The element is: \", i)\n",
    "    x = dataset_list.count(i)\n",
    "    print(x)\n",
    "    if ( x > count ):\n",
    "        count_list.append(x)\n",
    "        \n",
    "    \n",
    "print(\" \")\n",
    "print(count_list)\n",
    "max_occurance = max(count_list)\n",
    "print(\"Max Occurance is: \", max_occurance)\n",
    "\n",
    "mode_list = []\n",
    "# So which elements in the data list has max occurance is the mode\n",
    "for i in dataset_list:\n",
    "    if (dataset_list.count(i) == max_occurance):\n",
    "        mode_list.append(i)\n",
    "\n",
    "print(\" \")\n",
    "print(mode_list)\n",
    "mode_set = set(mode_list)\n",
    "print(mode_set)\n",
    "for i in mode_set:\n",
    "    print(\"Mode :\", i)"
   ]
  }
 ],
 "metadata": {
  "kernelspec": {
   "display_name": "Python 3",
   "language": "python",
   "name": "python3"
  },
  "language_info": {
   "codemirror_mode": {
    "name": "ipython",
    "version": 3
   },
   "file_extension": ".py",
   "mimetype": "text/x-python",
   "name": "python",
   "nbconvert_exporter": "python",
   "pygments_lexer": "ipython3",
   "version": "3.7.1"
  }
 },
 "nbformat": 4,
 "nbformat_minor": 2
}
