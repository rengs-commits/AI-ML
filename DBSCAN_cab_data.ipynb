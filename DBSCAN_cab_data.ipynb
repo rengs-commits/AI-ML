{
 "cells": [
  {
   "cell_type": "markdown",
   "metadata": {},
   "source": [
    "# EDP 2019 \n",
    "# DBSCAN - Density-Based Spatial Clustering of Applications with Noise"
   ]
  },
  {
   "cell_type": "markdown",
   "metadata": {},
   "source": [
    "## Import DBSCAN from sklearn and other necessry library fpr analytics"
   ]
  },
  {
   "cell_type": "code",
   "execution_count": 10,
   "metadata": {},
   "outputs": [],
   "source": [
    "from sklearn.cluster import DBSCAN\n",
    "import pandas as pd\n",
    "import numpy as np\n",
    "from matplotlib import pyplot as plt\n",
    "from collections import Counter\n",
    "from sklearn import preprocessing\n",
    "\n",
    "%matplotlib inline"
   ]
  },
  {
   "cell_type": "markdown",
   "metadata": {},
   "source": [
    "## Import data set and list few rows"
   ]
  },
  {
   "cell_type": "code",
   "execution_count": 11,
   "metadata": {},
   "outputs": [
    {
     "data": {
      "text/html": [
       "<div>\n",
       "<style scoped>\n",
       "    .dataframe tbody tr th:only-of-type {\n",
       "        vertical-align: middle;\n",
       "    }\n",
       "\n",
       "    .dataframe tbody tr th {\n",
       "        vertical-align: top;\n",
       "    }\n",
       "\n",
       "    .dataframe thead th {\n",
       "        text-align: right;\n",
       "    }\n",
       "</style>\n",
       "<table border=\"1\" class=\"dataframe\">\n",
       "  <thead>\n",
       "    <tr style=\"text-align: right;\">\n",
       "      <th></th>\n",
       "      <th>pickup</th>\n",
       "      <th>drop_location</th>\n",
       "      <th>gap</th>\n",
       "      <th>extra_charge</th>\n",
       "      <th>car_category</th>\n",
       "      <th>car_type</th>\n",
       "      <th>temperature</th>\n",
       "      <th>overcasted</th>\n",
       "      <th>air_pressure</th>\n",
       "      <th>precipitation</th>\n",
       "      <th>humid_level</th>\n",
       "      <th>strength_of_air</th>\n",
       "    </tr>\n",
       "  </thead>\n",
       "  <tbody>\n",
       "    <tr>\n",
       "      <th>0</th>\n",
       "      <td>North Station</td>\n",
       "      <td>Boston University</td>\n",
       "      <td>3.15</td>\n",
       "      <td>1.00</td>\n",
       "      <td>3</td>\n",
       "      <td>8</td>\n",
       "      <td>20.10</td>\n",
       "      <td>0.62</td>\n",
       "      <td>1030.21</td>\n",
       "      <td>NaN</td>\n",
       "      <td>0.61</td>\n",
       "      <td>3.79</td>\n",
       "    </tr>\n",
       "    <tr>\n",
       "      <th>1</th>\n",
       "      <td>South Station</td>\n",
       "      <td>Beacon Hill</td>\n",
       "      <td>2.50</td>\n",
       "      <td>1.00</td>\n",
       "      <td>1</td>\n",
       "      <td>2</td>\n",
       "      <td>41.46</td>\n",
       "      <td>0.90</td>\n",
       "      <td>989.86</td>\n",
       "      <td>NaN</td>\n",
       "      <td>0.78</td>\n",
       "      <td>10.83</td>\n",
       "    </tr>\n",
       "    <tr>\n",
       "      <th>2</th>\n",
       "      <td>Boston University</td>\n",
       "      <td>Financial District</td>\n",
       "      <td>3.79</td>\n",
       "      <td>1.25</td>\n",
       "      <td>3</td>\n",
       "      <td>8</td>\n",
       "      <td>34.55</td>\n",
       "      <td>0.99</td>\n",
       "      <td>1003.73</td>\n",
       "      <td>NaN</td>\n",
       "      <td>0.91</td>\n",
       "      <td>7.56</td>\n",
       "    </tr>\n",
       "    <tr>\n",
       "      <th>3</th>\n",
       "      <td>Fenway</td>\n",
       "      <td>Back Bay</td>\n",
       "      <td>1.50</td>\n",
       "      <td>1.00</td>\n",
       "      <td>1</td>\n",
       "      <td>2</td>\n",
       "      <td>37.75</td>\n",
       "      <td>0.44</td>\n",
       "      <td>999.27</td>\n",
       "      <td>NaN</td>\n",
       "      <td>0.70</td>\n",
       "      <td>9.97</td>\n",
       "    </tr>\n",
       "    <tr>\n",
       "      <th>4</th>\n",
       "      <td>South Station</td>\n",
       "      <td>Theatre District</td>\n",
       "      <td>1.15</td>\n",
       "      <td>1.00</td>\n",
       "      <td>4</td>\n",
       "      <td>9</td>\n",
       "      <td>40.97</td>\n",
       "      <td>0.48</td>\n",
       "      <td>1022.56</td>\n",
       "      <td>NaN</td>\n",
       "      <td>0.59</td>\n",
       "      <td>2.26</td>\n",
       "    </tr>\n",
       "  </tbody>\n",
       "</table>\n",
       "</div>"
      ],
      "text/plain": [
       "              pickup       drop_location   gap  extra_charge  car_category  \\\n",
       "0      North Station   Boston University  3.15          1.00             3   \n",
       "1      South Station         Beacon Hill  2.50          1.00             1   \n",
       "2  Boston University  Financial District  3.79          1.25             3   \n",
       "3             Fenway            Back Bay  1.50          1.00             1   \n",
       "4      South Station    Theatre District  1.15          1.00             4   \n",
       "\n",
       "   car_type  temperature  overcasted  air_pressure  precipitation  \\\n",
       "0         8        20.10        0.62       1030.21            NaN   \n",
       "1         2        41.46        0.90        989.86            NaN   \n",
       "2         8        34.55        0.99       1003.73            NaN   \n",
       "3         2        37.75        0.44        999.27            NaN   \n",
       "4         9        40.97        0.48       1022.56            NaN   \n",
       "\n",
       "   humid_level  strength_of_air  \n",
       "0         0.61             3.79  \n",
       "1         0.78            10.83  \n",
       "2         0.91             7.56  \n",
       "3         0.70             9.97  \n",
       "4         0.59             2.26  "
      ]
     },
     "execution_count": 11,
     "metadata": {},
     "output_type": "execute_result"
    }
   ],
   "source": [
    "df = pd.read_csv(\"test2.csv\")\n",
    "df = df.drop(labels='CRN', axis=1)\n",
    "df = df.drop(labels='cab_booking_time', axis =1)\n",
    "df.head()\n"
   ]
  },
  {
   "cell_type": "markdown",
   "metadata": {},
   "source": [
    "## Scatter plot data"
   ]
  },
  {
   "cell_type": "code",
   "execution_count": 27,
   "metadata": {},
   "outputs": [],
   "source": [
    "features_test_data = df.iloc[:,:-1] \n",
    "\n",
    "from sklearn.impute import SimpleImputer\n",
    "imputer1 = SimpleImputer(missing_values = np.nan, strategy = 'constant',fill_value = 0)\n",
    "imputer1 = imputer1.fit(features_test_data)\n",
    "features_test_data = imputer1.transform(features_test_data)\n",
    "ohe = preprocessing.OneHotEncoder(sparse=False)\n",
    "encoded_features_test = features_test_data.copy()\n",
    "encoded_features_test[:,0] = preprocessing.LabelEncoder().fit_transform(features_test_data[:,0])\n",
    "encoded_features_test[:,1] = preprocessing.LabelEncoder().fit_transform(features_test_data[:,1])"
   ]
  },
  {
   "cell_type": "code",
   "execution_count": 6,
   "metadata": {},
   "outputs": [
    {
     "data": {
      "text/plain": [
       "<matplotlib.collections.PathCollection at 0x13e8f3c8>"
      ]
     },
     "execution_count": 6,
     "metadata": {},
     "output_type": "execute_result"
    },
    {
     "data": {
      "image/png": "[encoded data removed]",
      "text/plain": [
       "<Figure size 432x288 with 1 Axes>"
      ]
     },
     "metadata": {
      "needs_background": "light"
     },
     "output_type": "display_data"
    }
   ],
   "source": [
    "plt.scatter(df.b1,df.b2,df.b3)"
   ]
  },
  {
   "cell_type": "markdown",
   "metadata": {},
   "source": [
    "## Call DBSCAN method passing epsilon and min sample as argument to form a cluster"
   ]
  },
  {
   "cell_type": "code",
   "execution_count": 44,
   "metadata": {},
   "outputs": [
    {
     "name": "stdout",
     "output_type": "stream",
     "text": [
      "DBSCAN(algorithm='auto', eps=6.1, leaf_size=30, metric='euclidean',\n",
      "    metric_params=None, min_samples=5, n_jobs=None, p=None)\n"
     ]
    }
   ],
   "source": [
    "model = DBSCAN(eps = 6.1 , min_samples=5).fit(encoded_features_test)\n",
    "print(model)"
   ]
  },
  {
   "cell_type": "markdown",
   "metadata": {},
   "source": [
    "## DBSCAN forms cluster automattically, check how many clusters are formed"
   ]
  },
  {
   "cell_type": "code",
   "execution_count": 45,
   "metadata": {},
   "outputs": [
    {
     "name": "stdout",
     "output_type": "stream",
     "text": [
      "[0 1 1 ... 1 1 1]\n"
     ]
    }
   ],
   "source": [
    "labels=model.labels_\n",
    "print(labels)"
   ]
  },
  {
   "cell_type": "code",
   "execution_count": 46,
   "metadata": {},
   "outputs": [
    {
     "name": "stdout",
     "output_type": "stream",
     "text": [
      "3\n"
     ]
    }
   ],
   "source": [
    "n_clusters_ = len(set(labels)) - (1 if -1 in labels else 0)\n",
    "print(n_clusters_)"
   ]
  },
  {
   "cell_type": "markdown",
   "metadata": {},
   "source": [
    "## And check clusters lables"
   ]
  },
  {
   "cell_type": "code",
   "execution_count": 47,
   "metadata": {},
   "outputs": [
    {
     "name": "stdout",
     "output_type": "stream",
     "text": [
      "[0 1 1 ... 1 1 1]\n"
     ]
    }
   ],
   "source": [
    "labels=model.labels_\n",
    "print(labels)"
   ]
  },
  {
   "cell_type": "markdown",
   "metadata": {},
   "source": [
    "## Create dataframe for each clusters and outlier "
   ]
  },
  {
   "cell_type": "code",
   "execution_count": 51,
   "metadata": {},
   "outputs": [
    {
     "name": "stdout",
     "output_type": "stream",
     "text": [
      "[[7 2 3.15 ... 1030.21 0 0.61]\n",
      " [3 4 3.55 ... 1034.66 0 0.64]\n",
      " [4 9 0.43 ... 1034.07 0 0.74]\n",
      " ...\n",
      " [0 2 1.46 ... 1035.07 0 0.71]\n",
      " [3 10 2.74 ... 1034.03 0 0.81]\n",
      " [1 3 2.32 ... 1031.72 0 0.63]]\n"
     ]
    }
   ],
   "source": [
    "df1 = encoded_features_test[model.labels_ == 0]\n",
    "df2 = encoded_features_test[model.labels_ == 1]\n",
    "df3 = encoded_features_test[model.labels_ == 2]\n",
    "df4 = encoded_features_test[model.labels_ == -1]\n",
    "print (df1)"
   ]
  },
  {
   "cell_type": "markdown",
   "metadata": {},
   "source": [
    "## Scatter plot all clusters"
   ]
  },
  {
   "cell_type": "code",
   "execution_count": 52,
   "metadata": {},
   "outputs": [
    {
     "ename": "TypeError",
     "evalue": "scatter() missing 1 required positional argument: 'y'",
     "output_type": "error",
     "traceback": [
      "\u001b[0;31m---------------------------------------------------------------------------\u001b[0m",
      "\u001b[0;31mTypeError\u001b[0m                                 Traceback (most recent call last)",
      "\u001b[0;32m<ipython-input-52-49c33378cfee>\u001b[0m in \u001b[0;36m<module>\u001b[0;34m\u001b[0m\n\u001b[0;32m----> 1\u001b[0;31m \u001b[0mplt\u001b[0m\u001b[0;34m.\u001b[0m\u001b[0mscatter\u001b[0m\u001b[0;34m(\u001b[0m\u001b[0mdf1\u001b[0m\u001b[0;34m,\u001b[0m \u001b[0mcolor\u001b[0m\u001b[0;34m=\u001b[0m\u001b[0;34m'green'\u001b[0m\u001b[0;34m)\u001b[0m\u001b[0;34m\u001b[0m\u001b[0;34m\u001b[0m\u001b[0m\n\u001b[0m\u001b[1;32m      2\u001b[0m \u001b[0mplt\u001b[0m\u001b[0;34m.\u001b[0m\u001b[0mscatter\u001b[0m\u001b[0;34m(\u001b[0m\u001b[0mdf2\u001b[0m\u001b[0;34m,\u001b[0m \u001b[0mcolor\u001b[0m\u001b[0;34m=\u001b[0m\u001b[0;34m'red'\u001b[0m\u001b[0;34m)\u001b[0m\u001b[0;34m\u001b[0m\u001b[0;34m\u001b[0m\u001b[0m\n\u001b[1;32m      3\u001b[0m \u001b[0mplt\u001b[0m\u001b[0;34m.\u001b[0m\u001b[0mscatter\u001b[0m\u001b[0;34m(\u001b[0m\u001b[0mdf3\u001b[0m\u001b[0;34m,\u001b[0m \u001b[0mcolor\u001b[0m\u001b[0;34m=\u001b[0m\u001b[0;34m'blue'\u001b[0m\u001b[0;34m)\u001b[0m\u001b[0;34m\u001b[0m\u001b[0;34m\u001b[0m\u001b[0m\n\u001b[1;32m      4\u001b[0m \u001b[0mplt\u001b[0m\u001b[0;34m.\u001b[0m\u001b[0mscatter\u001b[0m\u001b[0;34m(\u001b[0m\u001b[0mdf4\u001b[0m\u001b[0;34m,\u001b[0m \u001b[0mcolor\u001b[0m\u001b[0;34m=\u001b[0m\u001b[0;34m'black'\u001b[0m\u001b[0;34m)\u001b[0m\u001b[0;34m\u001b[0m\u001b[0;34m\u001b[0m\u001b[0m\n",
      "\u001b[0;31mTypeError\u001b[0m: scatter() missing 1 required positional argument: 'y'"
     ]
    }
   ],
   "source": [
    "plt.scatter(df1, color='green')\n",
    "plt.scatter(df2, color='red')\n",
    "plt.scatter(df3, color='blue')\n",
    "plt.scatter(df4, color='black')"
   ]
  },
  {
   "cell_type": "markdown",
   "metadata": {},
   "source": [
    "## End"
   ]
  },
  {
   "cell_type": "markdown",
   "metadata": {},
   "source": [
    "### Generic python code to choose best value of eps and minimum samples"
   ]
  },
  {
   "cell_type": "code",
   "execution_count": 29,
   "metadata": {},
   "outputs": [
    {
     "name": "stdout",
     "output_type": "stream",
     "text": [
      "ep - 1\n",
      "  eps : 1.0 No. of cluster : 7 Outliers : 7262\n",
      "  eps : 1.1 No. of cluster : 18 Outliers : 7195\n",
      "  eps : 1.2000000000000002 No. of cluster : 22 Outliers : 7167\n",
      "  eps : 1.3000000000000003 No. of cluster : 27 Outliers : 7131\n",
      "  eps : 1.4000000000000004 No. of cluster : 34 Outliers : 7082\n",
      "  eps : 1.5000000000000004 No. of cluster : 87 Outliers : 6667\n",
      "  eps : 1.6000000000000005 No. of cluster : 96 Outliers : 6551\n",
      "  eps : 1.7000000000000006 No. of cluster : 108 Outliers : 6429\n",
      "  eps : 1.8000000000000007 No. of cluster : 129 Outliers : 6217\n",
      "  eps : 1.9000000000000008 No. of cluster : 146 Outliers : 6058\n",
      "ep - 2\n",
      "  eps : 2.0 No. of cluster : 158 Outliers : 5899\n",
      "  eps : 2.1 No. of cluster : 171 Outliers : 5679\n",
      "  eps : 2.2 No. of cluster : 188 Outliers : 5473\n",
      "  eps : 2.3000000000000003 No. of cluster : 211 Outliers : 4981\n",
      "  eps : 2.4000000000000004 No. of cluster : 213 Outliers : 4640\n",
      "  eps : 2.5000000000000004 No. of cluster : 216 Outliers : 4291\n",
      "  eps : 2.6000000000000005 No. of cluster : 204 Outliers : 3967\n",
      "  eps : 2.7000000000000006 No. of cluster : 203 Outliers : 3613\n",
      "  eps : 2.8000000000000007 No. of cluster : 201 Outliers : 3317\n",
      "  eps : 2.900000000000001 No. of cluster : 178 Outliers : 2670\n",
      "ep - 3\n",
      "  eps : 3.0 No. of cluster : 169 Outliers : 2389\n",
      "  eps : 3.1 No. of cluster : 152 Outliers : 2008\n",
      "  eps : 3.2 No. of cluster : 129 Outliers : 1170\n",
      "  eps : 3.3000000000000003 No. of cluster : 110 Outliers : 947\n",
      "  eps : 3.4000000000000004 No. of cluster : 90 Outliers : 782\n",
      "  eps : 3.5000000000000004 No. of cluster : 80 Outliers : 638\n",
      "  eps : 3.6000000000000005 No. of cluster : 68 Outliers : 546\n",
      "  eps : 3.7000000000000006 No. of cluster : 57 Outliers : 449\n",
      "  eps : 3.8000000000000007 No. of cluster : 44 Outliers : 380\n",
      "  eps : 3.900000000000001 No. of cluster : 38 Outliers : 343\n",
      "ep - 4\n",
      "  eps : 4.0 No. of cluster : 38 Outliers : 303\n",
      "  eps : 4.1 No. of cluster : 39 Outliers : 254\n",
      "  eps : 4.199999999999999 No. of cluster : 31 Outliers : 183\n",
      "  eps : 4.299999999999999 No. of cluster : 28 Outliers : 142\n",
      "  eps : 4.399999999999999 No. of cluster : 25 Outliers : 104\n",
      "  eps : 4.499999999999998 No. of cluster : 20 Outliers : 86\n",
      "  eps : 4.599999999999998 No. of cluster : 20 Outliers : 71\n",
      "  eps : 4.6999999999999975 No. of cluster : 16 Outliers : 64\n",
      "  eps : 4.799999999999997 No. of cluster : 14 Outliers : 54\n",
      "  eps : 4.899999999999997 No. of cluster : 14 Outliers : 52\n",
      "ep - 5\n",
      "  eps : 5.0 No. of cluster : 12 Outliers : 50\n",
      "  eps : 5.1 No. of cluster : 9 Outliers : 36\n",
      "  eps : 5.199999999999999 No. of cluster : 8 Outliers : 30\n",
      "  eps : 5.299999999999999 No. of cluster : 8 Outliers : 23\n",
      "  eps : 5.399999999999999 No. of cluster : 8 Outliers : 13\n",
      "  eps : 5.499999999999998 No. of cluster : 8 Outliers : 13\n",
      "  eps : 5.599999999999998 No. of cluster : 8 Outliers : 10\n",
      "  eps : 5.6999999999999975 No. of cluster : 4 Outliers : 8\n",
      "  eps : 5.799999999999997 No. of cluster : 3 Outliers : 8\n",
      "  eps : 5.899999999999997 No. of cluster : 3 Outliers : 7\n",
      "ep - 6\n",
      "  eps : 6.0 No. of cluster : 3 Outliers : 2\n",
      "  eps : 6.1 No. of cluster : 3 Outliers : 2\n",
      "  eps : 6.199999999999999 No. of cluster : 3 Outliers : 2\n",
      "  eps : 6.299999999999999 No. of cluster : 2 Outliers : 2\n",
      "  eps : 6.399999999999999 No. of cluster : 2 Outliers : 2\n",
      "  eps : 6.499999999999998 No. of cluster : 2 Outliers : 0\n",
      "  eps : 6.599999999999998 No. of cluster : 2 Outliers : 0\n",
      "  eps : 6.6999999999999975 No. of cluster : 2 Outliers : 0\n",
      "  eps : 6.799999999999997 No. of cluster : 2 Outliers : 0\n",
      "  eps : 6.899999999999997 No. of cluster : 2 Outliers : 0\n",
      "ep - 7\n",
      "  eps : 7.0 No. of cluster : 2 Outliers : 0\n",
      "  eps : 7.1 No. of cluster : 2 Outliers : 0\n",
      "  eps : 7.199999999999999 No. of cluster : 2 Outliers : 0\n",
      "  eps : 7.299999999999999 No. of cluster : 2 Outliers : 0\n",
      "  eps : 7.399999999999999 No. of cluster : 2 Outliers : 0\n",
      "  eps : 7.499999999999998 No. of cluster : 2 Outliers : 0\n",
      "  eps : 7.599999999999998 No. of cluster : 2 Outliers : 0\n",
      "  eps : 7.6999999999999975 No. of cluster : 2 Outliers : 0\n",
      "  eps : 7.799999999999997 No. of cluster : 2 Outliers : 0\n",
      "  eps : 7.899999999999997 No. of cluster : 2 Outliers : 0\n",
      "ep - 8\n",
      "  eps : 8.0 No. of cluster : 2 Outliers : 0\n",
      "  eps : 8.1 No. of cluster : 2 Outliers : 0\n",
      "  eps : 8.2 No. of cluster : 2 Outliers : 0\n",
      "  eps : 8.299999999999999 No. of cluster : 2 Outliers : 0\n",
      "  eps : 8.399999999999999 No. of cluster : 2 Outliers : 0\n",
      "  eps : 8.499999999999998 No. of cluster : 2 Outliers : 0\n",
      "  eps : 8.599999999999998 No. of cluster : 2 Outliers : 0\n",
      "  eps : 8.699999999999998 No. of cluster : 2 Outliers : 0\n",
      "  eps : 8.799999999999997 No. of cluster : 2 Outliers : 0\n",
      "  eps : 8.899999999999997 No. of cluster : 2 Outliers : 0\n",
      "ep - 9\n",
      "  eps : 9.0 No. of cluster : 2 Outliers : 0\n",
      "  eps : 9.1 No. of cluster : 2 Outliers : 0\n",
      "  eps : 9.2 No. of cluster : 2 Outliers : 0\n",
      "  eps : 9.299999999999999 No. of cluster : 2 Outliers : 0\n",
      "  eps : 9.399999999999999 No. of cluster : 2 Outliers : 0\n",
      "  eps : 9.499999999999998 No. of cluster : 2 Outliers : 0\n",
      "  eps : 9.599999999999998 No. of cluster : 2 Outliers : 0\n",
      "  eps : 9.699999999999998 No. of cluster : 2 Outliers : 0\n",
      "  eps : 9.799999999999997 No. of cluster : 2 Outliers : 0\n",
      "  eps : 9.899999999999997 No. of cluster : 2 Outliers : 0\n"
     ]
    }
   ],
   "source": [
    "## FInd optimal value of eps \n",
    "for ep in np.arange(1,10,1):\n",
    "    print(\"ep - \"+str(ep))\n",
    "    for zeps in np.arange(ep,ep+1,0.1):\n",
    "        model = DBSCAN(eps = zeps , min_samples=5).fit(encoded_features_test)\n",
    "        labels=model.labels_\n",
    "        n_clusters_ = len(set(labels)) - (1 if -1 in labels else 0)\n",
    "        n_noise_ = list(labels).count(-1) \n",
    "        print (\"  eps : \"+str(zeps)+\" No. of cluster : \"+str(n_clusters_) + \" Outliers : \"+str(n_noise_))       \n",
    "        #print (Counter(model.labels_))"
   ]
  },
  {
   "cell_type": "code",
   "execution_count": null,
   "metadata": {},
   "outputs": [],
   "source": []
  }
 ],
 "metadata": {
  "kernelspec": {
   "display_name": "Python 3",
   "language": "python",
   "name": "python3"
  },
  "language_info": {
   "codemirror_mode": {
    "name": "ipython",
    "version": 3
   },
   "file_extension": ".py",
   "mimetype": "text/x-python",
   "name": "python",
   "nbconvert_exporter": "python",
   "pygments_lexer": "ipython3",
   "version": "3.7.3"
  }
 },
 "nbformat": 4,
 "nbformat_minor": 2
}
