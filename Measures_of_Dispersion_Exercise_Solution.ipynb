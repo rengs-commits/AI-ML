{
 "cells": [
  {
   "cell_type": "markdown",
   "metadata": {},
   "source": [
    "# Measures of Dispersion"
   ]
  },
  {
   "cell_type": "markdown",
   "metadata": {},
   "source": [
    "### Exercise\n",
    "\n",
    "### # Write a Python program to find Sample Variance, Sample Standard Deviation, Population Variance & \n",
    "### Population Standard Deviation without using built-in module"
   ]
  },
  {
   "cell_type": "markdown",
   "metadata": {},
   "source": [
    "## Hints"
   ]
  },
  {
   "cell_type": "code",
   "execution_count": 6,
   "metadata": {},
   "outputs": [
    {
     "name": "stdout",
     "output_type": "stream",
     "text": [
      "Calculating the mean using built-in python function & list\n",
      "Mean is : 5\n",
      "   \n"
     ]
    }
   ],
   "source": [
    "import statistics\n",
    "\n",
    "data_list = [9, 8, 1, 2, 3, 4, 5, 6, 7]\n",
    "\n",
    "x = statistics.mean(data_list) \n",
    "# Calculating the mean using built-in python function & list \n",
    "print(\"Calculating the mean using built-in python function & list\")\n",
    "print(\"Mean is :\", x)\n",
    "print(\"   \")"
   ]
  },
  {
   "cell_type": "code",
   "execution_count": 3,
   "metadata": {},
   "outputs": [
    {
     "ename": "SyntaxError",
     "evalue": "invalid syntax (<ipython-input-3-8ca8c6061483>, line 10)",
     "output_type": "error",
     "traceback": [
      "\u001b[1;36m  File \u001b[1;32m\"<ipython-input-3-8ca8c6061483>\"\u001b[1;36m, line \u001b[1;32m10\u001b[0m\n\u001b[1;33m    deviation = i - ?\u001b[0m\n\u001b[1;37m                    ^\u001b[0m\n\u001b[1;31mSyntaxError\u001b[0m\u001b[1;31m:\u001b[0m invalid syntax\n"
     ]
    }
   ],
   "source": [
    "# Excercise\n",
    "\n",
    "data_list = [9, 8, 1, 2, 3, 4, 5, 6, 7]\n",
    "\n",
    "# Function to calculate the sum of (X - mean)^2\n",
    "def calculate_deviation(dataset_list, mean):\n",
    "    sum_deviationsquare = 0\n",
    "    deviation = 0\n",
    "    for i in dataset_list:\n",
    "        deviation = i - ?\n",
    "        deviation = ? * ?\n",
    "        sum_deviationsquare += ?\n",
    "    return sum_deviationsquare\n",
    "\n",
    "print(data_list)\n",
    "print(\" \")\n",
    "deviationsquare_for_dataset = calculate_deviation(data_list, x)\n",
    "print(\"Deviation Square: \", deviationsquare_for_dataset)\n",
    "print(\" \")\n",
    "print(\"Sample Variance :    \", deviationsquare_for_dataset/? )\n",
    "print(\"Population Variance: \", deviationsquare_for_dataset/? )\n",
    "\n",
    "import math\n",
    "\n",
    "print(\" \")\n",
    "print(\"Sample Standard Deviation:     \", math.sqrt (deviationsquare_for_dataset/? )\n",
    "print(\"Population Standard Deviation: \", math.sqrt (deviationsquare_for_dataset/? )"
   ]
  },
  {
   "cell_type": "markdown",
   "metadata": {},
   "source": [
    "## Solution"
   ]
  },
  {
   "cell_type": "code",
   "execution_count": 8,
   "metadata": {},
   "outputs": [
    {
     "name": "stdout",
     "output_type": "stream",
     "text": [
      "[9, 8, 1, 2, 3, 4, 5, 6, 7]\n",
      " \n",
      "Deviation Square:  60\n",
      " \n",
      "Sample Variance :     7.5\n",
      "Population Variance:  6.666666666666667\n",
      " \n",
      "Sample Standard Deviation:      2.7386127875258306\n",
      "Population Standard Deviation:  2.581988897471611\n"
     ]
    }
   ],
   "source": [
    "# data_list = [9, 8, 1, 2, 3, 4, 5, 6, 7]\n",
    "\n",
    "# Function to calculate the sum of (X - mean)^2\n",
    "def calculate_deviation(dataset_list, mean):\n",
    "    sum_deviationsquare = 0\n",
    "    deviation = 0\n",
    "    for i in dataset_list:\n",
    "        deviation = i - mean\n",
    "        deviation = deviation * deviation\n",
    "        sum_deviationsquare += deviation\n",
    "    return sum_deviationsquare\n",
    "\n",
    "print(data_list)\n",
    "print(\" \")\n",
    "deviationsquare_for_dataset = calculate_deviation(data_list, x)\n",
    "print(\"Deviation Square: \", deviationsquare_for_dataset)\n",
    "print(\" \")\n",
    "print(\"Sample Variance :    \", deviationsquare_for_dataset/(len(data_list)-1))\n",
    "print(\"Population Variance: \", deviationsquare_for_dataset/len(data_list))\n",
    "\n",
    "import math\n",
    "\n",
    "print(\" \")\n",
    "print(\"Sample Standard Deviation:     \", math.sqrt (deviationsquare_for_dataset/(len(data_list)-1)))\n",
    "print(\"Population Standard Deviation: \", math.sqrt (deviationsquare_for_dataset/len(data_list)))"
   ]
  }
 ],
 "metadata": {
  "kernelspec": {
   "display_name": "Python 3",
   "language": "python",
   "name": "python3"
  },
  "language_info": {
   "codemirror_mode": {
    "name": "ipython",
    "version": 3
   },
   "file_extension": ".py",
   "mimetype": "text/x-python",
   "name": "python",
   "nbconvert_exporter": "python",
   "pygments_lexer": "ipython3",
   "version": "3.7.1"
  }
 },
 "nbformat": 4,
 "nbformat_minor": 2
}
