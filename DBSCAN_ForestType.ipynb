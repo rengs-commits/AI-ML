{
 "cells": [
  {
   "cell_type": "markdown",
   "metadata": {},
   "source": [
    "# EDP 2019 \n",
    "# DBSCAN - Density-Based Spatial Clustering of Applications with Noise"
   ]
  },
  {
   "cell_type": "markdown",
   "metadata": {},
   "source": [
    "## Import DBSCAN from sklearn and other necessry library fpr analytics"
   ]
  },
  {
   "cell_type": "code",
   "execution_count": 2,
   "metadata": {},
   "outputs": [],
   "source": [
    "from sklearn.cluster import DBSCAN\n",
    "import pandas as pd\n",
    "import numpy as np\n",
    "from matplotlib import pyplot as plt\n",
    "from collections import Counter\n",
    "%matplotlib inline"
   ]
  },
  {
   "cell_type": "markdown",
   "metadata": {},
   "source": [
    "## Import data set and list few rows"
   ]
  },
  {
   "cell_type": "code",
   "execution_count": 4,
   "metadata": {},
   "outputs": [
    {
     "data": {
      "text/html": [
       "<div>\n",
       "<style scoped>\n",
       "    .dataframe tbody tr th:only-of-type {\n",
       "        vertical-align: middle;\n",
       "    }\n",
       "\n",
       "    .dataframe tbody tr th {\n",
       "        vertical-align: top;\n",
       "    }\n",
       "\n",
       "    .dataframe thead th {\n",
       "        text-align: right;\n",
       "    }\n",
       "</style>\n",
       "<table border=\"1\" class=\"dataframe\">\n",
       "  <thead>\n",
       "    <tr style=\"text-align: right;\">\n",
       "      <th></th>\n",
       "      <th>b1</th>\n",
       "      <th>b2</th>\n",
       "      <th>b3</th>\n",
       "    </tr>\n",
       "  </thead>\n",
       "  <tbody>\n",
       "    <tr>\n",
       "      <th>0</th>\n",
       "      <td>39</td>\n",
       "      <td>36</td>\n",
       "      <td>57</td>\n",
       "    </tr>\n",
       "    <tr>\n",
       "      <th>1</th>\n",
       "      <td>84</td>\n",
       "      <td>30</td>\n",
       "      <td>57</td>\n",
       "    </tr>\n",
       "    <tr>\n",
       "      <th>2</th>\n",
       "      <td>53</td>\n",
       "      <td>25</td>\n",
       "      <td>49</td>\n",
       "    </tr>\n",
       "    <tr>\n",
       "      <th>3</th>\n",
       "      <td>59</td>\n",
       "      <td>26</td>\n",
       "      <td>49</td>\n",
       "    </tr>\n",
       "    <tr>\n",
       "      <th>4</th>\n",
       "      <td>57</td>\n",
       "      <td>49</td>\n",
       "      <td>66</td>\n",
       "    </tr>\n",
       "  </tbody>\n",
       "</table>\n",
       "</div>"
      ],
      "text/plain": [
       "   b1  b2  b3\n",
       "0  39  36  57\n",
       "1  84  30  57\n",
       "2  53  25  49\n",
       "3  59  26  49\n",
       "4  57  49  66"
      ]
     },
     "execution_count": 4,
     "metadata": {},
     "output_type": "execute_result"
    }
   ],
   "source": [
    "df = pd.read_csv(\"ForestType.csv\")\n",
    "df.head()\n"
   ]
  },
  {
   "cell_type": "markdown",
   "metadata": {},
   "source": [
    "## Scatter plot data"
   ]
  },
  {
   "cell_type": "code",
   "execution_count": 5,
   "metadata": {},
   "outputs": [
    {
     "data": {
      "text/plain": [
       "<matplotlib.collections.PathCollection at 0x7fe5daefa7b8>"
      ]
     },
     "execution_count": 5,
     "metadata": {},
     "output_type": "execute_result"
    },
    {
     "data": {
      "image/png": "[encoded data removed]",
      "text/plain": [
       "<Figure size 432x288 with 1 Axes>"
      ]
     },
     "metadata": {
      "needs_background": "light"
     },
     "output_type": "display_data"
    }
   ],
   "source": [
    "plt.scatter(df.b1,df.b2,df.b3)"
   ]
  },
  {
   "cell_type": "markdown",
   "metadata": {},
   "source": [
    "## Call DBSCAN method passing epsilon and min sample as argument to form a cluster"
   ]
  },
  {
   "cell_type": "code",
   "execution_count": 6,
   "metadata": {},
   "outputs": [],
   "source": [
    "model = DBSCAN(eps = 6.5 , min_samples=5).fit(df)"
   ]
  },
  {
   "cell_type": "markdown",
   "metadata": {},
   "source": [
    "## DBSCAN forms cluster automattically, check how many clusters are formed"
   ]
  },
  {
   "cell_type": "code",
   "execution_count": 8,
   "metadata": {},
   "outputs": [
    {
     "name": "stdout",
     "output_type": "stream",
     "text": [
      "[ 1  0  0  0  1  0  0  1  0  1 -1 -1  1  1  0  1  2  1  0  0 -1  1  0  0\n",
      "  1  0 -1  1  1  1  1  0  2  0  1  1 -1  0  2  1  1  1  0  0  0  1  1  2\n",
      "  1  0  1  0  0  0  0  0  1  1  0  0  1  1  1  2  0  0  0  1  1  0  1 -1\n",
      "  2  0  0  0  1  1  0  0  1  1  2  0 -1  0  1  1  0  2 -1  0  2 -1  1  0\n",
      "  2  0  2  0  1  2  0  0  0  0  0  1  0  0  1  1  1  1  0 -1  0  0  0  0\n",
      "  0  0  1  1  0  0  0  0  0  1  0  0  1  0  0  0 -1  0  1  0  0  0  0  0\n",
      "  0  1  1  0  0  1  0  0  0  1  1  1  0 -1  1  0  2  1  2  0  1  0  0  0\n",
      "  2  1  0  0  0  0  0  0  0  1  0  1  0  0  0  0  0  0  2  1  0  0  0  0\n",
      "  0  2  2  0  0  0]\n"
     ]
    }
   ],
   "source": [
    "labels=model.labels_\n",
    "print(labels)"
   ]
  },
  {
   "cell_type": "code",
   "execution_count": 9,
   "metadata": {},
   "outputs": [
    {
     "name": "stdout",
     "output_type": "stream",
     "text": [
      "3\n"
     ]
    }
   ],
   "source": [
    "n_clusters_ = len(set(labels)) - (1 if -1 in labels else 0)\n",
    "print(n_clusters_)"
   ]
  },
  {
   "cell_type": "markdown",
   "metadata": {},
   "source": [
    "## And check clusters lables"
   ]
  },
  {
   "cell_type": "code",
   "execution_count": 23,
   "metadata": {},
   "outputs": [
    {
     "name": "stdout",
     "output_type": "stream",
     "text": [
      "[ 1  0  0  0  1  0  0  1  0  1 -1 -1  1  1  0  1  2  1  0  0 -1  1  0  0\n",
      "  1  0 -1  1  1  1  1  0  2  0  1  1 -1  0  2  1  1  1  0  0  0  1  1  2\n",
      "  1  0  1  0  0  0  0  0  1  1  0  0  1  1  1  2  0  0  0  1  1  0  1 -1\n",
      "  2  0  0  0  1  1  0  0  1  1  2  0 -1  0  1  1  0  2 -1  0  2 -1  1  0\n",
      "  2  0  2  0  1  2  0  0  0  0  0  1  0  0  1  1  1  1  0 -1  0  0  0  0\n",
      "  0  0  1  1  0  0  0  0  0  1  0  0  1  0  0  0 -1  0  1  0  0  0  0  0\n",
      "  0  1  1  0  0  1  0  0  0  1  1  1  0 -1  1  0  2  1  2  0  1  0  0  0\n",
      "  2  1  0  0  0  0  0  0  0  1  0  1  0  0  0  0  0  0  2  1  0  0  0  0\n",
      "  0  2  2  0  0  0]\n"
     ]
    }
   ],
   "source": []
  },
  {
   "cell_type": "markdown",
   "metadata": {},
   "source": [
    "## Create dataframe for each clusters and outlier "
   ]
  },
  {
   "cell_type": "code",
   "execution_count": 10,
   "metadata": {},
   "outputs": [],
   "source": [
    "df1 = df[model.labels_ == 0]\n",
    "df2 = df[model.labels_ == 1]\n",
    "df3 = df[model.labels_ == 2]\n",
    "df4 = df[model.labels_ == -1]"
   ]
  },
  {
   "cell_type": "markdown",
   "metadata": {},
   "source": [
    "## Scatter plot all clusters"
   ]
  },
  {
   "cell_type": "code",
   "execution_count": 12,
   "metadata": {},
   "outputs": [
    {
     "data": {
      "text/plain": [
       "<matplotlib.collections.PathCollection at 0x7fe5dadb0630>"
      ]
     },
     "execution_count": 12,
     "metadata": {},
     "output_type": "execute_result"
    },
    {
     "data": {
      "image/png": "[encoded data removed]",
      "text/plain": [
       "<Figure size 432x288 with 1 Axes>"
      ]
     },
     "metadata": {
      "needs_background": "light"
     },
     "output_type": "display_data"
    }
   ],
   "source": [
    "plt.scatter(df1.b1,df1.b2, df1.b3, color='green')\n",
    "plt.scatter(df2.b1,df2.b2, df2.b3, color='red')\n",
    "plt.scatter(df3.b1,df3.b2, df3.b3, color='blue')\n",
    "plt.scatter(df4.b1,df4.b2, df4.b3, color='black')"
   ]
  },
  {
   "cell_type": "markdown",
   "metadata": {},
   "source": [
    "## End"
   ]
  },
  {
   "cell_type": "markdown",
   "metadata": {},
   "source": [
    "### Generic python code to choose best value of eps and minimum samples"
   ]
  },
  {
   "cell_type": "code",
   "execution_count": 16,
   "metadata": {},
   "outputs": [
    {
     "name": "stdout",
     "output_type": "stream",
     "text": [
      "ep - 1\n",
      "  eps : 1.0 No. of cluster : 0 Outliers : 198\n",
      "  eps : 1.1 No. of cluster : 0 Outliers : 198\n",
      "  eps : 1.2000000000000002 No. of cluster : 0 Outliers : 198\n",
      "  eps : 1.3000000000000003 No. of cluster : 0 Outliers : 198\n",
      "  eps : 1.4000000000000004 No. of cluster : 0 Outliers : 198\n",
      "  eps : 1.5000000000000004 No. of cluster : 8 Outliers : 146\n",
      "  eps : 1.6000000000000005 No. of cluster : 8 Outliers : 146\n",
      "  eps : 1.7000000000000006 No. of cluster : 8 Outliers : 146\n",
      "  eps : 1.8000000000000007 No. of cluster : 8 Outliers : 134\n",
      "  eps : 1.9000000000000008 No. of cluster : 8 Outliers : 134\n",
      "ep - 2\n",
      "  eps : 2.0 No. of cluster : 5 Outliers : 115\n",
      "  eps : 2.1 No. of cluster : 5 Outliers : 115\n",
      "  eps : 2.2 No. of cluster : 5 Outliers : 115\n",
      "  eps : 2.3000000000000003 No. of cluster : 4 Outliers : 99\n",
      "  eps : 2.4000000000000004 No. of cluster : 4 Outliers : 99\n",
      "  eps : 2.5000000000000004 No. of cluster : 4 Outliers : 85\n",
      "  eps : 2.6000000000000005 No. of cluster : 4 Outliers : 85\n",
      "  eps : 2.7000000000000006 No. of cluster : 4 Outliers : 85\n",
      "  eps : 2.8000000000000007 No. of cluster : 4 Outliers : 85\n",
      "  eps : 2.900000000000001 No. of cluster : 4 Outliers : 85\n",
      "ep - 3\n",
      "  eps : 3.0 No. of cluster : 4 Outliers : 73\n",
      "  eps : 3.1 No. of cluster : 4 Outliers : 73\n",
      "  eps : 3.2 No. of cluster : 4 Outliers : 67\n",
      "  eps : 3.3000000000000003 No. of cluster : 4 Outliers : 67\n",
      "  eps : 3.4000000000000004 No. of cluster : 3 Outliers : 65\n",
      "  eps : 3.5000000000000004 No. of cluster : 3 Outliers : 64\n",
      "  eps : 3.6000000000000005 No. of cluster : 3 Outliers : 64\n",
      "  eps : 3.7000000000000006 No. of cluster : 3 Outliers : 64\n",
      "  eps : 3.8000000000000007 No. of cluster : 3 Outliers : 58\n",
      "  eps : 3.900000000000001 No. of cluster : 3 Outliers : 58\n",
      "ep - 4\n",
      "  eps : 4.0 No. of cluster : 3 Outliers : 58\n",
      "  eps : 4.1 No. of cluster : 3 Outliers : 58\n",
      "  eps : 4.199999999999999 No. of cluster : 3 Outliers : 57\n",
      "  eps : 4.299999999999999 No. of cluster : 3 Outliers : 55\n",
      "  eps : 4.399999999999999 No. of cluster : 4 Outliers : 47\n",
      "  eps : 4.499999999999998 No. of cluster : 4 Outliers : 46\n",
      "  eps : 4.599999999999998 No. of cluster : 4 Outliers : 38\n",
      "  eps : 4.6999999999999975 No. of cluster : 4 Outliers : 37\n",
      "  eps : 4.799999999999997 No. of cluster : 4 Outliers : 37\n",
      "  eps : 4.899999999999997 No. of cluster : 4 Outliers : 35\n",
      "ep - 5\n",
      "  eps : 5.0 No. of cluster : 4 Outliers : 35\n",
      "  eps : 5.1 No. of cluster : 4 Outliers : 34\n",
      "  eps : 5.199999999999999 No. of cluster : 4 Outliers : 33\n",
      "  eps : 5.299999999999999 No. of cluster : 4 Outliers : 33\n",
      "  eps : 5.399999999999999 No. of cluster : 4 Outliers : 24\n",
      "  eps : 5.499999999999998 No. of cluster : 4 Outliers : 22\n",
      "  eps : 5.599999999999998 No. of cluster : 4 Outliers : 22\n",
      "  eps : 5.6999999999999975 No. of cluster : 4 Outliers : 22\n",
      "  eps : 5.799999999999997 No. of cluster : 4 Outliers : 19\n",
      "  eps : 5.899999999999997 No. of cluster : 4 Outliers : 19\n",
      "ep - 6\n",
      "  eps : 6.0 No. of cluster : 4 Outliers : 19\n",
      "  eps : 6.1 No. of cluster : 4 Outliers : 19\n",
      "  eps : 6.199999999999999 No. of cluster : 4 Outliers : 16\n",
      "  eps : 6.299999999999999 No. of cluster : 4 Outliers : 16\n",
      "  eps : 6.399999999999999 No. of cluster : 4 Outliers : 16\n",
      "  eps : 6.499999999999998 No. of cluster : 3 Outliers : 12\n",
      "  eps : 6.599999999999998 No. of cluster : 3 Outliers : 12\n",
      "  eps : 6.6999999999999975 No. of cluster : 3 Outliers : 12\n",
      "  eps : 6.799999999999997 No. of cluster : 3 Outliers : 11\n",
      "  eps : 6.899999999999997 No. of cluster : 3 Outliers : 11\n",
      "ep - 7\n",
      "  eps : 7.0 No. of cluster : 2 Outliers : 10\n",
      "  eps : 7.1 No. of cluster : 1 Outliers : 10\n",
      "  eps : 7.199999999999999 No. of cluster : 1 Outliers : 10\n",
      "  eps : 7.299999999999999 No. of cluster : 1 Outliers : 9\n",
      "  eps : 7.399999999999999 No. of cluster : 1 Outliers : 9\n",
      "  eps : 7.499999999999998 No. of cluster : 1 Outliers : 9\n",
      "  eps : 7.599999999999998 No. of cluster : 1 Outliers : 8\n",
      "  eps : 7.6999999999999975 No. of cluster : 1 Outliers : 8\n",
      "  eps : 7.799999999999997 No. of cluster : 1 Outliers : 8\n",
      "  eps : 7.899999999999997 No. of cluster : 1 Outliers : 7\n",
      "ep - 8\n",
      "  eps : 8.0 No. of cluster : 1 Outliers : 6\n",
      "  eps : 8.1 No. of cluster : 1 Outliers : 6\n",
      "  eps : 8.2 No. of cluster : 1 Outliers : 6\n",
      "  eps : 8.299999999999999 No. of cluster : 1 Outliers : 6\n",
      "  eps : 8.399999999999999 No. of cluster : 1 Outliers : 6\n",
      "  eps : 8.499999999999998 No. of cluster : 1 Outliers : 6\n",
      "  eps : 8.599999999999998 No. of cluster : 1 Outliers : 6\n",
      "  eps : 8.699999999999998 No. of cluster : 1 Outliers : 6\n",
      "  eps : 8.799999999999997 No. of cluster : 1 Outliers : 6\n",
      "  eps : 8.899999999999997 No. of cluster : 1 Outliers : 6\n",
      "ep - 9\n",
      "  eps : 9.0 No. of cluster : 1 Outliers : 6\n",
      "  eps : 9.1 No. of cluster : 1 Outliers : 6\n",
      "  eps : 9.2 No. of cluster : 1 Outliers : 6\n",
      "  eps : 9.299999999999999 No. of cluster : 1 Outliers : 6\n",
      "  eps : 9.399999999999999 No. of cluster : 1 Outliers : 6\n",
      "  eps : 9.499999999999998 No. of cluster : 1 Outliers : 6\n",
      "  eps : 9.599999999999998 No. of cluster : 1 Outliers : 6\n",
      "  eps : 9.699999999999998 No. of cluster : 1 Outliers : 5\n",
      "  eps : 9.799999999999997 No. of cluster : 1 Outliers : 5\n",
      "  eps : 9.899999999999997 No. of cluster : 1 Outliers : 5\n"
     ]
    }
   ],
   "source": [
    "## FInd optimal value of eps \n",
    "for ep in np.arange(1,10,1):\n",
    "    print(\"ep - \"+str(ep))\n",
    "    for zeps in np.arange(ep,ep+1,0.1):\n",
    "        model = DBSCAN(eps = zeps , min_samples=5).fit(df)\n",
    "        labels=model.labels_\n",
    "        n_clusters_ = len(set(labels)) - (1 if -1 in labels else 0)\n",
    "        n_noise_ = list(labels).count(-1) \n",
    "        print (\"  eps : \"+str(zeps)+\" No. of cluster : \"+str(n_clusters_) + \" Outliers : \"+str(n_noise_))       \n",
    "        #print (Counter(model.labels_))"
   ]
  },
  {
   "cell_type": "code",
   "execution_count": null,
   "metadata": {},
   "outputs": [],
   "source": []
  }
 ],
 "metadata": {
  "kernelspec": {
   "display_name": "Python 3",
   "language": "python",
   "name": "python3"
  },
  "language_info": {
   "codemirror_mode": {
    "name": "ipython",
    "version": 3
   },
   "file_extension": ".py",
   "mimetype": "text/x-python",
   "name": "python",
   "nbconvert_exporter": "python",
   "pygments_lexer": "ipython3",
   "version": "3.7.3"
  }
 },
 "nbformat": 4,
 "nbformat_minor": 2
}
