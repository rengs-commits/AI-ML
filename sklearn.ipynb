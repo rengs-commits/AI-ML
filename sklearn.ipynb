{
 "cells": [
  {
   "cell_type": "code",
   "execution_count": 1,
   "metadata": {},
   "outputs": [
    {
     "name": "stdout",
     "output_type": "stream",
     "text": [
      "[[ 0.  0.  5. ...  0.  0.  0.]\n",
      " [ 0.  0.  0. ... 10.  0.  0.]\n",
      " [ 0.  0.  0. ... 16.  9.  0.]\n",
      " ...\n",
      " [ 0.  0.  1. ...  6.  0.  0.]\n",
      " [ 0.  0.  2. ... 12.  0.  0.]\n",
      " [ 0.  0. 10. ... 12.  1.  0.]]\n"
     ]
    }
   ],
   "source": [
    "from sklearn import datasets\n",
    "iris = datasets.load_iris()\n",
    "digits = datasets.load_digits()\n",
    "print(digits.data)\n"
   ]
  },
  {
   "cell_type": "markdown",
   "metadata": {},
   "source": [
    "__TEST/TRAIN SPLIT EXAMPLE__"
   ]
  },
  {
   "cell_type": "code",
   "execution_count": 3,
   "metadata": {},
   "outputs": [
    {
     "name": "stdout",
     "output_type": "stream",
     "text": [
      "[9 1 6 7 3 0 5] [2 8 4]\n",
      "[2 9 8 0 6 7 4] [3 5 1]\n",
      "[4 5 1 0 6 9 7] [2 3 8]\n",
      "[2 7 5 8 0 3 4] [6 1 9]\n",
      "[4 1 0 6 8 9 3] [5 2 7]\n"
     ]
    }
   ],
   "source": [
    "from sklearn.model_selection import ShuffleSplit\n",
    "import numpy as np\n",
    "X = np.arange(10)\n",
    "ss = ShuffleSplit(n_splits=5, test_size=0.25,random_state=0)\n",
    "for train_index, test_index in ss.split(X):\n",
    "    print(\"%s %s\" % (train_index, test_index))\n",
    "\n"
   ]
  },
  {
   "cell_type": "markdown",
   "metadata": {},
   "source": [
    "__SIMPLE LINEAR MODEL__"
   ]
  },
  {
   "cell_type": "code",
   "execution_count": 6,
   "metadata": {},
   "outputs": [
    {
     "data": {
      "text/plain": [
       "LinearRegression(copy_X=True, fit_intercept=True, n_jobs=None,\n",
       "         normalize=False)"
      ]
     },
     "execution_count": 6,
     "metadata": {},
     "output_type": "execute_result"
    }
   ],
   "source": [
    "from sklearn import linear_model\n",
    "regr = linear_model.LinearRegression()\n",
    "regr.fit([[1],[2],[3]],[1,2,3])\n"
   ]
  },
  {
   "cell_type": "code",
   "execution_count": 7,
   "metadata": {},
   "outputs": [
    {
     "data": {
      "text/plain": [
       "array([4., 7.])"
      ]
     },
     "execution_count": 7,
     "metadata": {},
     "output_type": "execute_result"
    }
   ],
   "source": [
    "regr.predict([[4],[7]])"
   ]
  },
  {
   "cell_type": "markdown",
   "metadata": {},
   "source": [
    "__Another Example__"
   ]
  },
  {
   "cell_type": "code",
   "execution_count": 8,
   "metadata": {},
   "outputs": [],
   "source": [
    "import pandas as pd\n",
    "df = pd.read_csv('./Employees.csv')"
   ]
  },
  {
   "cell_type": "code",
   "execution_count": 9,
   "metadata": {},
   "outputs": [
    {
     "data": {
      "text/html": [
       "<div>\n",
       "<style scoped>\n",
       "    .dataframe tbody tr th:only-of-type {\n",
       "        vertical-align: middle;\n",
       "    }\n",
       "\n",
       "    .dataframe tbody tr th {\n",
       "        vertical-align: top;\n",
       "    }\n",
       "\n",
       "    .dataframe thead th {\n",
       "        text-align: right;\n",
       "    }\n",
       "</style>\n",
       "<table border=\"1\" class=\"dataframe\">\n",
       "  <thead>\n",
       "    <tr style=\"text-align: right;\">\n",
       "      <th></th>\n",
       "      <th>Employee Name</th>\n",
       "      <th>Employee ID</th>\n",
       "      <th>Age</th>\n",
       "      <th>Department</th>\n",
       "      <th>Location</th>\n",
       "      <th>Experience</th>\n",
       "      <th>Role</th>\n",
       "      <th>ML</th>\n",
       "      <th>Python</th>\n",
       "      <th>Salary</th>\n",
       "    </tr>\n",
       "  </thead>\n",
       "  <tbody>\n",
       "    <tr>\n",
       "      <th>0</th>\n",
       "      <td>Gabrielle Smith</td>\n",
       "      <td>82036322</td>\n",
       "      <td>30</td>\n",
       "      <td>5G</td>\n",
       "      <td>L5</td>\n",
       "      <td>4.0</td>\n",
       "      <td>Engineer</td>\n",
       "      <td>No</td>\n",
       "      <td>Yes</td>\n",
       "      <td>26.0</td>\n",
       "    </tr>\n",
       "    <tr>\n",
       "      <th>1</th>\n",
       "      <td>Nathan Howard</td>\n",
       "      <td>57825244</td>\n",
       "      <td>25</td>\n",
       "      <td>5G</td>\n",
       "      <td>M2</td>\n",
       "      <td>3.0</td>\n",
       "      <td>Engineer</td>\n",
       "      <td>No</td>\n",
       "      <td>Yes</td>\n",
       "      <td>24.0</td>\n",
       "    </tr>\n",
       "    <tr>\n",
       "      <th>2</th>\n",
       "      <td>Yvonne Wilson</td>\n",
       "      <td>67211472</td>\n",
       "      <td>27</td>\n",
       "      <td>5G</td>\n",
       "      <td>M2</td>\n",
       "      <td>3.6</td>\n",
       "      <td>Engineer</td>\n",
       "      <td>Yes</td>\n",
       "      <td>Yes</td>\n",
       "      <td>24.2</td>\n",
       "    </tr>\n",
       "    <tr>\n",
       "      <th>3</th>\n",
       "      <td>Alison Greene</td>\n",
       "      <td>57816451</td>\n",
       "      <td>27</td>\n",
       "      <td>5G</td>\n",
       "      <td>L5</td>\n",
       "      <td>6.4</td>\n",
       "      <td>Engineer</td>\n",
       "      <td>No</td>\n",
       "      <td>Yes</td>\n",
       "      <td>32.8</td>\n",
       "    </tr>\n",
       "    <tr>\n",
       "      <th>4</th>\n",
       "      <td>Dominic Turner</td>\n",
       "      <td>57819904</td>\n",
       "      <td>26</td>\n",
       "      <td>5G</td>\n",
       "      <td>L6</td>\n",
       "      <td>5.9</td>\n",
       "      <td>Engineer</td>\n",
       "      <td>No</td>\n",
       "      <td>Yes</td>\n",
       "      <td>32.8</td>\n",
       "    </tr>\n",
       "    <tr>\n",
       "      <th>5</th>\n",
       "      <td>Ella Simpson</td>\n",
       "      <td>57887284</td>\n",
       "      <td>30</td>\n",
       "      <td>5G</td>\n",
       "      <td>L5</td>\n",
       "      <td>8.0</td>\n",
       "      <td>Technical Lead</td>\n",
       "      <td>Yes</td>\n",
       "      <td>Yes</td>\n",
       "      <td>36.0</td>\n",
       "    </tr>\n",
       "    <tr>\n",
       "      <th>6</th>\n",
       "      <td>Harry McLean</td>\n",
       "      <td>67249809</td>\n",
       "      <td>28</td>\n",
       "      <td>5G</td>\n",
       "      <td>L5</td>\n",
       "      <td>6.0</td>\n",
       "      <td>Technical Lead</td>\n",
       "      <td>No</td>\n",
       "      <td>Yes</td>\n",
       "      <td>32.0</td>\n",
       "    </tr>\n",
       "    <tr>\n",
       "      <th>7</th>\n",
       "      <td>Joshua Hunter</td>\n",
       "      <td>57823797</td>\n",
       "      <td>28</td>\n",
       "      <td>5G</td>\n",
       "      <td>E2</td>\n",
       "      <td>7.0</td>\n",
       "      <td>Technical Lead</td>\n",
       "      <td>Yes</td>\n",
       "      <td>Yes</td>\n",
       "      <td>34.0</td>\n",
       "    </tr>\n",
       "    <tr>\n",
       "      <th>8</th>\n",
       "      <td>Caroline Graham</td>\n",
       "      <td>57144516</td>\n",
       "      <td>34</td>\n",
       "      <td>5G</td>\n",
       "      <td>L5</td>\n",
       "      <td>10.0</td>\n",
       "      <td>Engineer</td>\n",
       "      <td>No</td>\n",
       "      <td>Yes</td>\n",
       "      <td>46.0</td>\n",
       "    </tr>\n",
       "    <tr>\n",
       "      <th>9</th>\n",
       "      <td>Piers Arnold</td>\n",
       "      <td>57780544</td>\n",
       "      <td>35</td>\n",
       "      <td>5G</td>\n",
       "      <td>L5</td>\n",
       "      <td>9.3</td>\n",
       "      <td>Technical Lead</td>\n",
       "      <td>Yes</td>\n",
       "      <td>Yes</td>\n",
       "      <td>44.6</td>\n",
       "    </tr>\n",
       "  </tbody>\n",
       "</table>\n",
       "</div>"
      ],
      "text/plain": [
       "     Employee Name  Employee ID  Age Department Location  Experience  \\\n",
       "0  Gabrielle Smith     82036322   30         5G       L5         4.0   \n",
       "1    Nathan Howard     57825244   25         5G       M2         3.0   \n",
       "2    Yvonne Wilson     67211472   27         5G       M2         3.6   \n",
       "3    Alison Greene     57816451   27         5G       L5         6.4   \n",
       "4   Dominic Turner     57819904   26         5G       L6         5.9   \n",
       "5     Ella Simpson     57887284   30         5G       L5         8.0   \n",
       "6     Harry McLean     67249809   28         5G       L5         6.0   \n",
       "7    Joshua Hunter     57823797   28         5G       E2         7.0   \n",
       "8  Caroline Graham     57144516   34         5G       L5        10.0   \n",
       "9     Piers Arnold     57780544   35         5G       L5         9.3   \n",
       "\n",
       "             Role   ML Python  Salary  \n",
       "0        Engineer   No    Yes    26.0  \n",
       "1        Engineer   No    Yes    24.0  \n",
       "2        Engineer  Yes    Yes    24.2  \n",
       "3        Engineer   No    Yes    32.8  \n",
       "4        Engineer   No    Yes    32.8  \n",
       "5  Technical Lead  Yes    Yes    36.0  \n",
       "6  Technical Lead   No    Yes    32.0  \n",
       "7  Technical Lead  Yes    Yes    34.0  \n",
       "8        Engineer   No    Yes    46.0  \n",
       "9  Technical Lead  Yes    Yes    44.6  "
      ]
     },
     "execution_count": 9,
     "metadata": {},
     "output_type": "execute_result"
    }
   ],
   "source": [
    "df.head(n=10)"
   ]
  },
  {
   "cell_type": "code",
   "execution_count": 15,
   "metadata": {},
   "outputs": [
    {
     "data": {
      "text/plain": [
       "LinearRegression(copy_X=True, fit_intercept=True, n_jobs=None,\n",
       "         normalize=False)"
      ]
     },
     "execution_count": 15,
     "metadata": {},
     "output_type": "execute_result"
    }
   ],
   "source": [
    "df[['Experience']]\n",
    "regr.fit(df[['Experience']], df['Salary'])"
   ]
  },
  {
   "cell_type": "code",
   "execution_count": 17,
   "metadata": {},
   "outputs": [
    {
     "data": {
      "text/plain": [
       "array([27.09068011, 24.1135473 , 25.89982699, 34.23579887, 32.74723246])"
      ]
     },
     "execution_count": 17,
     "metadata": {},
     "output_type": "execute_result"
    }
   ],
   "source": [
    "regr.predict(df[['Experience']].head(n=5))"
   ]
  },
  {
   "cell_type": "code",
   "execution_count": 19,
   "metadata": {},
   "outputs": [
    {
     "data": {
      "text/plain": [
       "array([18.15928167])"
      ]
     },
     "execution_count": 19,
     "metadata": {},
     "output_type": "execute_result"
    }
   ],
   "source": [
    "regr.predict([[1]])"
   ]
  },
  {
   "cell_type": "code",
   "execution_count": null,
   "metadata": {},
   "outputs": [],
   "source": []
  }
 ],
 "metadata": {
  "kernelspec": {
   "display_name": "Python 3",
   "language": "python",
   "name": "python3"
  },
  "language_info": {
   "codemirror_mode": {
    "name": "ipython",
    "version": 3
   },
   "file_extension": ".py",
   "mimetype": "text/x-python",
   "name": "python",
   "nbconvert_exporter": "python",
   "pygments_lexer": "ipython3",
   "version": "3.7.3"
  }
 },
 "nbformat": 4,
 "nbformat_minor": 2
}
